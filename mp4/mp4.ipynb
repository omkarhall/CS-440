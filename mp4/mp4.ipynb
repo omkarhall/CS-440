{
 "cells": [
  {
   "cell_type": "markdown",
   "id": "3693bd7c-7b18-435a-9e8a-e9d35a75af0e",
   "metadata": {},
   "source": [
    "# MP4: Transformer\n"
   ]
  },
  {
   "cell_type": "markdown",
   "id": "f1cd96d7-0f85-4f39-8499-0c692c934c62",
   "metadata": {},
   "source": [
    "In this MP, you will learn how to test and train a transformer, which is a sequence-to-sequence neural network in which the relationship between input and output is defined exclusively using dot-product attention.  You will test and train the transformer on some super-simplified natural-language tasks that would be hard to learn using a fully-connected network, though some types of recurrent networks would work as well as a transformer.\n",
    "\n",
    "If you're reading this webpage online, then the first thing you should do is download the template package:\n",
    "* [https://courses.engr.illinois.edu/ece448/sp2025/mp4/template.zip](MP4 template package)"
   ]
  },
  {
   "cell_type": "markdown",
   "id": "57b8ae72-5942-4114-abe6-315a54623128",
   "metadata": {},
   "source": [
    "## Data"
   ]
  },
  {
   "cell_type": "markdown",
   "id": "9af53ebf-bfca-4d35-8f65-5efbeea0f09b",
   "metadata": {},
   "source": [
    "The template includes data, vocabulary, and a pre-trained model for a couple of different natural language tasks.  All of these files are plaintext, so you can read them with a text editor. In order to help you understand their format, though, we have provided a `reader.py` file with some `load` and `save` functions."
   ]
  },
  {
   "cell_type": "markdown",
   "id": "24d2e7c5-d912-4738-aa74-22c03415d2b1",
   "metadata": {},
   "source": [
    "### Vocabulary\n",
    "\n",
    "For example, let's try loading the vocabulary for task 1:"
   ]
  },
  {
   "cell_type": "code",
   "execution_count": 879,
   "id": "8621f9c8-c15c-425b-82b1-ee24c538f465",
   "metadata": {},
   "outputs": [
    {
     "name": "stdout",
     "output_type": "stream",
     "text": [
      "Help on function load_vocabulary in module reader:\n",
      "\n",
      "load_vocabulary(vocabularyfile)\n",
      "    @param:\n",
      "    vocabularyfile (str) - name of a file that contains a list of unique words\n",
      "    @return:\n",
      "    vocabulary (list) - list of those words, in the same order they had in the file\n",
      "\n"
     ]
    }
   ],
   "source": [
    "import importlib, reader\n",
    "help(reader.load_vocabulary)"
   ]
  },
  {
   "cell_type": "code",
   "execution_count": 880,
   "id": "55fb1843-50b7-41cb-8e43-82361ce7bbf5",
   "metadata": {},
   "outputs": [
    {
     "name": "stdout",
     "output_type": "stream",
     "text": [
      "['cat', 'swims', 'happily', 'noun', 'verb', 'adverb', 'is', 'in', 'the', 'string', 'of', 'words']\n"
     ]
    }
   ],
   "source": [
    "vocabulary = reader.load_vocabulary('data/task1_vocabulary.txt')\n",
    "print(vocabulary)"
   ]
  },
  {
   "cell_type": "markdown",
   "id": "a304da97-4f1d-4db9-abe8-07c54443fdd4",
   "metadata": {},
   "source": [
    "### Dev Data\n",
    "\n",
    "Task 1 doesn't have any training data, because you will be using dev data to test the provided model.  Try loading the dev data:"
   ]
  },
  {
   "cell_type": "code",
   "execution_count": 881,
   "id": "fb1651ea-c8b1-4e1e-b145-6f514b1bf7b3",
   "metadata": {},
   "outputs": [
    {
     "name": "stdout",
     "output_type": "stream",
     "text": [
      "Help on function load_data in module reader:\n",
      "\n",
      "load_data(datafile, vocabulary)\n",
      "    Load data from a datafile.\n",
      "    \n",
      "    @param:\n",
      "    datafile (str) - the input filename, one sentence per line\n",
      "    vocabulary (list) - a list of words in the vocabulary, length V\n",
      "    \n",
      "    @return:\n",
      "    sentences - a list of N sentences, each of which is a list of T words. \n",
      "    embeddings - a list of N numpy arrays, each of size T[n]-by-V\n",
      "      embeddings[n][t,:] is one-hot embedding of the t'th word in the n'th sentence.\n",
      "\n"
     ]
    }
   ],
   "source": [
    "help(reader.load_data)"
   ]
  },
  {
   "cell_type": "code",
   "execution_count": 882,
   "id": "4ce6ef5d-da24-47e7-94ce-6f91fdff54dd",
   "metadata": {},
   "outputs": [
    {
     "name": "stdout",
     "output_type": "stream",
     "text": [
      "the noun in the happily swims cat is cat\n",
      "the adverb in the string of happily cat swims is happily\n",
      "in the string happily swims cat the verb is swims\n",
      "the noun in happily cat swims is cat\n",
      "the noun in the string of swims happily cat is cat\n",
      "in the string of words swims cat happily the adverb is happily\n",
      "the verb in the string of words swims happily cat is swims\n",
      "the adverb in the string of swims cat happily is happily\n",
      "the noun in the string of words cat happily swims is cat\n",
      "in the string of swims happily cat the noun is cat\n",
      "the noun in the string happily cat swims is cat\n",
      "the adverb in the string of happily swims cat is happily\n",
      "the adverb in the string swims cat happily is happily\n",
      "in swims cat happily the verb is swims\n",
      "the verb in the string cat happily swims is swims\n",
      "the adverb in the string of cat swims happily is happily\n",
      "the verb in the string of happily cat swims is swims\n",
      "the noun in the string swims cat happily is cat\n",
      "the adverb in the string of happily swims cat is happily\n",
      "the adverb in the string of cat happily swims is happily\n"
     ]
    }
   ],
   "source": [
    "importlib.reload(reader)\n",
    "sentences, embeddings = reader.load_data('data/task1_dev_data.txt', vocabulary)\n",
    "print('\\n'.join([' '.join(sentence) for sentence in sentences]))"
   ]
  },
  {
   "cell_type": "markdown",
   "id": "3aa10041-ed34-4f6f-bf27-ccbb06172f15",
   "metadata": {},
   "source": [
    "As you can see, task 1 is the task of identifying the noun, verb, or adverb in a short three-word sentence.  The target POS (noun, verb, or adverb) is named somewhere in the input. The three-word sentence always contains the words \"cat swims happily,\" but in randomized order.\n",
    "\n",
    "Let's look at the embeddings for just the first of those sentences."
   ]
  },
  {
   "cell_type": "code",
   "execution_count": 883,
   "id": "b4d60d4b-e69f-4d2f-bcf0-7a575a1b1b29",
   "metadata": {},
   "outputs": [
    {
     "name": "stdout",
     "output_type": "stream",
     "text": [
      "[[0. 0. 0. 0. 0. 0. 0. 0. 1. 0. 0. 0.]\n",
      " [0. 0. 0. 1. 0. 0. 0. 0. 0. 0. 0. 0.]\n",
      " [0. 0. 0. 0. 0. 0. 0. 1. 0. 0. 0. 0.]\n",
      " [0. 0. 0. 0. 0. 0. 0. 0. 1. 0. 0. 0.]\n",
      " [0. 0. 1. 0. 0. 0. 0. 0. 0. 0. 0. 0.]\n",
      " [0. 1. 0. 0. 0. 0. 0. 0. 0. 0. 0. 0.]\n",
      " [1. 0. 0. 0. 0. 0. 0. 0. 0. 0. 0. 0.]\n",
      " [0. 0. 0. 0. 0. 0. 1. 0. 0. 0. 0. 0.]\n",
      " [1. 0. 0. 0. 0. 0. 0. 0. 0. 0. 0. 0.]]\n"
     ]
    }
   ],
   "source": [
    "print(embeddings[0])"
   ]
  },
  {
   "cell_type": "markdown",
   "id": "690f506d-6dc7-4e1e-8472-5a79faf8de03",
   "metadata": {},
   "source": [
    "As you can see, there is one word embedding per row (9 words in `sentences[0]`, 9 rows in `embeddings[0]`). Each word embedding is a one-hot vector, labeling the identity of the corresponding word.  For example, word 0 in the sentence is `the`, which is `vocabulary[8]`, so `embeddings[0,8]==1`. Likewise, word 1 in the sentence is `noun`, which is `vocabulary[3]`, so `embeddings[1,3]==1`.  And so on, down to the last word, `cat`."
   ]
  },
  {
   "cell_type": "markdown",
   "id": "3f86c0e3-d9b8-41d9-a595-215e0fe2118f",
   "metadata": {},
   "source": [
    "### Task Definition\n",
    "\n",
    "In order to train and test a transformer, we need to know which words are the prompt text (from which we compute key and value vectors), which words are used to generate query vectors, and which words are the outputs (that the transformer tries to generate).\n",
    "\n",
    "In this MP, we will use a somewhat simple definition.  If a sentence contains $T$ words, we assume that:\n",
    "* The first $T-2$ words are the prompt text, from which keys and values are generated.\n",
    "* The last $2$ words are the target output that the transformer should generate.\n",
    "* In order to generate the second-to-last word of the sentence, the transformer uses a query based on the average of the embeddings of the prompt words.\n",
    "* In order to generate the last word, the transformer uses a query based on the average of the prompt words and the second-to-last word, i.e., the average of the first $T-1$ words in the sentence."
   ]
  },
  {
   "cell_type": "code",
   "execution_count": 884,
   "id": "68ed0af9-167a-4911-9b19-805a62e3e6a8",
   "metadata": {},
   "outputs": [
    {
     "name": "stdout",
     "output_type": "stream",
     "text": [
      "Help on function define_task in module reader:\n",
      "\n",
      "define_task(embeddings)\n",
      "    Split the lexical embeddings into XK, XQ, and Y.\n",
      "    \n",
      "    @param:\n",
      "    embeddings - a T-by-V array, where T is length of the sentence, and V is size of vocabulary\n",
      "    \n",
      "    @return:\n",
      "    XK - a (T-2)-by-V array, with embeddings that are used to generate key and value vectors\n",
      "    XQ - a 2-by-V array, with embeddings that are used to generate query vectors\n",
      "    Y - a 2-by-V array, with embeddings that are the output targets for the transformer\n",
      "\n"
     ]
    }
   ],
   "source": [
    "importlib.reload(reader)\n",
    "help(reader.define_task)"
   ]
  },
  {
   "cell_type": "code",
   "execution_count": 885,
   "id": "d8b92ff6-1697-4e0c-b512-fab3de2d5d99",
   "metadata": {},
   "outputs": [
    {
     "name": "stdout",
     "output_type": "stream",
     "text": [
      "XK is:\n",
      " [[0. 0. 0. 0. 0. 0. 0. 0. 1. 0. 0. 0.]\n",
      " [0. 0. 0. 1. 0. 0. 0. 0. 0. 0. 0. 0.]\n",
      " [0. 0. 0. 0. 0. 0. 0. 1. 0. 0. 0. 0.]\n",
      " [0. 0. 0. 0. 0. 0. 0. 0. 1. 0. 0. 0.]\n",
      " [0. 0. 1. 0. 0. 0. 0. 0. 0. 0. 0. 0.]\n",
      " [0. 1. 0. 0. 0. 0. 0. 0. 0. 0. 0. 0.]\n",
      " [1. 0. 0. 0. 0. 0. 0. 0. 0. 0. 0. 0.]]\n",
      "\n",
      "XQ is:\n",
      " 0.143 0.143 0.143 0.143 0.000 0.000 0.000 0.143 0.286 0.000 0.000 0.000\n",
      "0.125 0.125 0.125 0.125 0.000 0.000 0.125 0.125 0.250 0.000 0.000 0.000\n",
      "\n",
      "Y is:\n",
      " [[0. 0. 0. 0. 0. 0. 1. 0. 0. 0. 0. 0.]\n",
      " [1. 0. 0. 0. 0. 0. 0. 0. 0. 0. 0. 0.]]\n"
     ]
    }
   ],
   "source": [
    "XK, XQ, Y = reader.define_task(embeddings[0])\n",
    "print('XK is:\\n',XK)\n",
    "print('\\nXQ is:\\n','\\n'.join([' '.join(['%.3f'%(x) for x in row]) for row in XQ]))\n",
    "print('\\nY is:\\n',Y)"
   ]
  },
  {
   "cell_type": "markdown",
   "id": "3e6a2db4-898e-431b-8bc5-1b68a2e1d50b",
   "metadata": {},
   "source": [
    "As you can see, `XK` is just the first 7 words of the sentence, and `Y` is just the last two words.  \n",
    "\n",
    "`XQ` has two rows:\n",
    "* `XQ[0,:]==` average of the first 7 words of the sentence, including two occurrences of the word `the` (`vocabulary[8]`).\n",
    "* `XQ[1,:]==`average of the first 8 words of the sentence, including the 7 words of the prompt (`the noun in the happily swims cat`), plus the first word that the transformer is supposed to generate, the word `is` (`vocabulary[6]`)."
   ]
  },
  {
   "cell_type": "markdown",
   "id": "67cb81ac-ff69-4f63-8d77-3b8f7dc92cf8",
   "metadata": {},
   "source": [
    "### Model\n",
    "\n",
    "For the first task, you will not train a model.  Instead, you will test a model that has been designed by hand to be capable of solving this task.  A one-layer, single-headed transformer model consists of four matrices: $\\mathbf{W}_K$, $\\mathbf{W}_O$, $\\mathbf{W}_Q$, and $\\mathbf{W}_V$.  These are used to create the keys, outputs, queries, and value vectors, respectively, according to the equations:\n",
    "\n",
    "$$\\mathbf{K}=\\left[\\begin{array}{c}\\mathbf{k}_1^T\\\\\\vdots\\\\\\mathbf{k}_{T-2}^T\\end{array}\\right]=\\mathbf{X}_K\\mathbf{W}_K$$\n",
    "$$\\mathbf{O}=\\left[\\begin{array}{c}\\mathbf{o}_1^T\\\\\\mathbf{o}_2^T\\end{array}\\right]=\\mathbf{C}\\mathbf{W}_O$$\n",
    "$$\\mathbf{Q}=\\left[\\begin{array}{c}\\mathbf{q}_1^T\\\\\\mathbf{q}_2^T\\end{array}\\right]=\\mathbf{X}_Q\\mathbf{W}_Q$$\n",
    "$$\\mathbf{V}=\\left[\\begin{array}{c}\\mathbf{v}_1^T\\\\\\vdots\\\\\\mathbf{v}_{T-2}^T\\end{array}\\right]=\\mathbf{X}_K\\mathbf{W}_V$$\n",
    "\n"
   ]
  },
  {
   "cell_type": "code",
   "execution_count": 886,
   "id": "aba849ca-d0e5-4b9d-aba0-77cfb52e7fdd",
   "metadata": {},
   "outputs": [
    {
     "name": "stdout",
     "output_type": "stream",
     "text": [
      "Help on function load_model in module reader:\n",
      "\n",
      "load_model(modelfile)\n",
      "    Load a model from a text file.\n",
      "    \n",
      "    @param:\n",
      "    modelfile (str) - name of the file to which model should be saved\n",
      "    @return:\n",
      "    WK - numpy array, size V-by-d where V is vocabulary size, d is embedding dimension\n",
      "    WO - numpy array, size d-by-V where V is vocabulary size, d is embedding dimension\n",
      "    WQ - numpy array, size V-by-d where V is vocabulary size, d is embedding dimension\n",
      "    WV - numpy array, size V-by-d where V is vocabulary size, d is embedding dimension\n",
      "\n"
     ]
    }
   ],
   "source": [
    "importlib.reload(reader)\n",
    "help(reader.load_model)"
   ]
  },
  {
   "cell_type": "code",
   "execution_count": 887,
   "id": "e1888fe9-8aba-461e-9949-d072bb1bae90",
   "metadata": {},
   "outputs": [
    {
     "name": "stdout",
     "output_type": "stream",
     "text": [
      "WK is\n",
      " [[1. 0. 0. 0. 0. 0. 0. 0. 0. 0. 0. 0.]\n",
      " [0. 1. 0. 0. 0. 0. 0. 0. 0. 0. 0. 0.]\n",
      " [0. 0. 1. 0. 0. 0. 0. 0. 0. 0. 0. 0.]\n",
      " [0. 0. 0. 1. 0. 0. 0. 0. 0. 0. 0. 0.]\n",
      " [0. 0. 0. 0. 1. 0. 0. 0. 0. 0. 0. 0.]\n",
      " [0. 0. 0. 0. 0. 1. 0. 0. 0. 0. 0. 0.]\n",
      " [0. 0. 0. 0. 0. 0. 1. 0. 0. 0. 0. 0.]\n",
      " [0. 0. 0. 0. 0. 0. 0. 1. 0. 0. 0. 0.]\n",
      " [0. 0. 0. 0. 0. 0. 0. 0. 1. 0. 0. 0.]\n",
      " [0. 0. 0. 0. 0. 0. 0. 0. 0. 1. 0. 0.]\n",
      " [0. 0. 0. 0. 0. 0. 0. 0. 0. 0. 1. 0.]\n",
      " [0. 0. 0. 0. 0. 0. 0. 0. 0. 0. 0. 1.]]\n",
      "WO is\n",
      " [[1. 0. 0. 0. 0. 0. 0. 0. 0. 0. 0. 0.]\n",
      " [0. 1. 0. 0. 0. 0. 0. 0. 0. 0. 0. 0.]\n",
      " [0. 0. 1. 0. 0. 0. 0. 0. 0. 0. 0. 0.]\n",
      " [0. 0. 0. 1. 0. 0. 0. 0. 0. 0. 0. 0.]\n",
      " [0. 0. 0. 0. 1. 0. 0. 0. 0. 0. 0. 0.]\n",
      " [0. 0. 0. 0. 0. 1. 0. 0. 0. 0. 0. 0.]\n",
      " [0. 0. 0. 0. 0. 0. 1. 0. 0. 0. 0. 0.]\n",
      " [0. 0. 0. 0. 0. 0. 1. 0. 0. 0. 0. 0.]\n",
      " [0. 0. 0. 0. 0. 0. 0. 0. 1. 0. 0. 0.]\n",
      " [0. 0. 0. 0. 0. 0. 0. 0. 0. 1. 0. 0.]\n",
      " [0. 0. 0. 0. 0. 0. 0. 0. 0. 0. 1. 0.]\n",
      " [0. 0. 0. 0. 0. 0. 0. 0. 0. 0. 0. 1.]]\n",
      "WV is\n",
      " [[1. 0. 0. 0. 0. 0. 0. 0. 0. 0. 0. 0.]\n",
      " [0. 1. 0. 0. 0. 0. 0. 0. 0. 0. 0. 0.]\n",
      " [0. 0. 1. 0. 0. 0. 0. 0. 0. 0. 0. 0.]\n",
      " [0. 0. 0. 1. 0. 0. 0. 0. 0. 0. 0. 0.]\n",
      " [0. 0. 0. 0. 1. 0. 0. 0. 0. 0. 0. 0.]\n",
      " [0. 0. 0. 0. 0. 1. 0. 0. 0. 0. 0. 0.]\n",
      " [0. 0. 0. 0. 0. 0. 1. 0. 0. 0. 0. 0.]\n",
      " [0. 0. 0. 0. 0. 0. 0. 1. 0. 0. 0. 0.]\n",
      " [0. 0. 0. 0. 0. 0. 0. 0. 1. 0. 0. 0.]\n",
      " [0. 0. 0. 0. 0. 0. 0. 0. 0. 1. 0. 0.]\n",
      " [0. 0. 0. 0. 0. 0. 0. 0. 0. 0. 1. 0.]\n",
      " [0. 0. 0. 0. 0. 0. 0. 0. 0. 0. 0. 1.]]\n"
     ]
    }
   ],
   "source": [
    "importlib.reload(reader)\n",
    "WK, WO, WQ, WV = reader.load_model('data/task1_model.txt')\n",
    "print('WK is\\n',WK)\n",
    "print('WO is\\n',WO)\n",
    "print('WV is\\n',WV)"
   ]
  },
  {
   "cell_type": "markdown",
   "id": "cc25b184-5601-4822-90cf-8a9575421e8e",
   "metadata": {},
   "source": [
    "As you can see, for this simple model, $\\mathbf{W}_K$ and $\\mathbf{W}_V$ are identity matrices, meaining that the key and value vectors are exactly equal to the input word embeddings.  \n",
    "\n",
    "$\\mathbf{W}_O$ is almost an identity matrix, except that it maps from the input word `in` (index 7) to the output word `is` (index 6).  Thus, if it finds that the context vector is the word `in`, then the output should be the word `is`.\n",
    "\n",
    "The matrix that is significantly non-trivial is $\\mathbf{W}_Q$, which is set up so that: \n",
    "* If the prompt contains `noun` but not `is`, then it generates a query vector that gives greatest weight to the word `in` (`WQ[3,7]==2.5` is the largest entry in its row).\n",
    "* If the prompt+generated first word contains the sequence `noun... is`, then it generates a query vector that gives greatest weight to the word `cat` (`WQ[3,0]+WQ[6,0]==3`, which is the largest entry in the sum of these two rows).\n",
    "* If the prompt contains `adverb` but not `is`, then it generates a query vector that gives greatest weight to the word `in` (`WQ[4,7]==2.5` is the largest entry in its row).\n",
    "* If the prompt+generated first word contains the sequence `adverb... is`, then it generates a query vector that gives greatest weight to the word `happily` (`WQ[4,1]+WQ[6,1]==3`, which is the largest entry in the sum of these two rows).\n",
    "* If the prompt contains `verb` but not `is`, then it generates a query vector that gives greatest weight to the word `in` (`WQ[5,6]==2.5` is the largest entry in its row).\n",
    "* If the prompt+generated first word contains the sequence `verb... is`, then it generates a query vector that gives greatest weight to the word `swims` (`WQ[5,2]+WQ[6,2]==3`, which is the largest entry in the sum of these two rows).\n"
   ]
  },
  {
   "cell_type": "code",
   "execution_count": 888,
   "id": "9a659fc7-5ec7-4477-b320-439ac87a8d8e",
   "metadata": {},
   "outputs": [
    {
     "name": "stdout",
     "output_type": "stream",
     "text": [
      "WQ is\n",
      " [[-99.  -99.  -99.  -99.  -99.  -99.  -99.  -99.  -99.  -99.  -99.  -99. ]\n",
      " [-99.  -99.  -99.  -99.  -99.  -99.  -99.  -99.  -99.  -99.  -99.  -99. ]\n",
      " [-99.  -99.  -99.  -99.  -99.  -99.  -99.  -99.  -99.  -99.  -99.  -99. ]\n",
      " [  2.  -99.  -99.  -99.  -99.  -99.  -99.    2.5 -99.  -99.  -99.  -99. ]\n",
      " [-99.    2.  -99.  -99.  -99.  -99.  -99.    2.5 -99.  -99.  -99.  -99. ]\n",
      " [-99.  -99.    2.  -99.  -99.  -99.  -99.    2.5 -99.  -99.  -99.  -99. ]\n",
      " [  1.    1.    1.  -99.  -99.  -99.  -99.  -99.  -99.  -99.  -99.  -99. ]\n",
      " [-99.  -99.  -99.  -99.  -99.  -99.  -99.  -99.  -99.  -99.  -99.  -99. ]\n",
      " [-99.  -99.  -99.  -99.  -99.  -99.  -99.  -99.  -99.  -99.  -99.  -99. ]\n",
      " [-99.  -99.  -99.  -99.  -99.  -99.  -99.  -99.  -99.  -99.  -99.  -99. ]\n",
      " [-99.  -99.  -99.  -99.  -99.  -99.  -99.  -99.  -99.  -99.  -99.  -99. ]\n",
      " [-99.  -99.  -99.  -99.  -99.  -99.  -99.  -99.  -99.  -99.  -99.  -99. ]]\n"
     ]
    }
   ],
   "source": [
    "print('WQ is\\n',WQ)"
   ]
  },
  {
   "cell_type": "markdown",
   "id": "bbe77432-69f3-4587-8605-d9735a0d06e2",
   "metadata": {},
   "source": [
    "## Task 1: Test an existing transformer\n",
    "\n",
    "For task 1, you will test the existing transformer model that we just loaded.  In order to do that, you'll need to modify three functions in `transformer.py`:  `softmax,` `forward,` and `generate`."
   ]
  },
  {
   "cell_type": "markdown",
   "id": "3343b36a-807e-46f8-8b46-0364e404f8a7",
   "metadata": {},
   "source": [
    "### softmax\n",
    "\n"
   ]
  },
  {
   "cell_type": "markdown",
   "id": "b7579ae5-d925-417e-9e47-3a154ee72ff6",
   "metadata": {},
   "source": [
    "The softmax of a row vector $\\mathbf{v}^T$ is a vector of the same dimensions as $\\mathbf{v}^T$ whose $j^{\\text{th}}$ element is:\n",
    "$$\\text{softmax}_j(\\mathbf{v})=\\frac{\\exp(v_j)}{\\sum_k \\exp(v_k)}$$\n",
    "For example, if the vector is $\\mathbf{v}=[0,1,0,0]^T$, then its softmax is\n",
    "$$\\text{softmax}([0,1,0,0]^T)=\\left[\\frac{1}{3+e},\\frac{e}{3+e},\\frac{1}{3+e},\\frac{1}{3+e}\\right]^T$$"
   ]
  },
  {
   "cell_type": "code",
   "execution_count": 889,
   "id": "3687d3d5-7d99-4aee-93d5-765245c616b0",
   "metadata": {},
   "outputs": [
    {
     "name": "stdout",
     "output_type": "stream",
     "text": [
      "[0.1748777  0.47536689 0.1748777  0.1748777 ]\n"
     ]
    }
   ],
   "source": [
    "import numpy as np\n",
    "import transformer\n",
    "v = np.array([0,1,0,0])\n",
    "print(np.exp(v)/sum(np.exp(v)))"
   ]
  },
  {
   "cell_type": "markdown",
   "id": "aeed10c8-f8de-46c9-a30d-e37fb9ef1516",
   "metadata": {},
   "source": [
    "Write the function `transformer.softmax` so it computes the result shown above."
   ]
  },
  {
   "cell_type": "code",
   "execution_count": 890,
   "id": "30d5349e-d18e-415a-be9b-1cc7ee67d8cb",
   "metadata": {},
   "outputs": [
    {
     "data": {
      "text/plain": [
       "array([0.1748777 , 0.47536689, 0.1748777 , 0.1748777 ])"
      ]
     },
     "execution_count": 890,
     "metadata": {},
     "output_type": "execute_result"
    }
   ],
   "source": [
    "importlib.reload(transformer)\n",
    "transformer.softmax([0,1,0,0])"
   ]
  },
  {
   "cell_type": "markdown",
   "id": "56eaf621-7eac-4243-ae02-128c6863cbb0",
   "metadata": {},
   "source": [
    "That's all there is to it, except... Except that the `np.exp` function can quickly lead to numerical overflow if its input is even moderately large.  For example, consider the vector $\\mathbf{v}=[990,991,990,990]^T$.  Its softmax is\n",
    "$$\\text{softmax}([990,991,990,990]^T)=\\left[\n",
    "\\frac{e^{990}}{e^{990}+e^{991}+e^{990}+e^{990}},\n",
    "\\frac{e^{991}}{e^{990}+e^{991}+e^{990}+e^{990}},\\ldots\\right]^T$$\n",
    "$$=\\left[\n",
    "\\frac{e^{990}}{e^{990}}\\times\\left(\\frac{1}{3+e}\\right),\n",
    "\\frac{e^{990}}{e^{990}}\\times\\left(\\frac{e}{3+e}\\right),\\ldots\\right]^T$$\n",
    "$$=\\left[\\frac{1}{3+e},\\frac{e}{3+e},\\frac{1}{3+e},\\frac{1}{3+e}\\right]^T$$\n",
    "\n",
    "When we try to compute it, though, we get the following error:"
   ]
  },
  {
   "cell_type": "code",
   "execution_count": 891,
   "id": "a7620890-e420-46ad-a15c-7c5f1a911330",
   "metadata": {},
   "outputs": [
    {
     "name": "stdout",
     "output_type": "stream",
     "text": [
      "[nan nan nan nan]\n"
     ]
    },
    {
     "name": "stderr",
     "output_type": "stream",
     "text": [
      "/var/folders/z5/6gtd6w914bn7v1ts4rjscrv40000gn/T/ipykernel_2042/3156646497.py:2: RuntimeWarning: overflow encountered in exp\n",
      "  print(np.exp(v)/np.sum(np.exp(v)))\n",
      "/var/folders/z5/6gtd6w914bn7v1ts4rjscrv40000gn/T/ipykernel_2042/3156646497.py:2: RuntimeWarning: invalid value encountered in divide\n",
      "  print(np.exp(v)/np.sum(np.exp(v)))\n"
     ]
    }
   ],
   "source": [
    "v = [990,991,990,990]\n",
    "print(np.exp(v)/np.sum(np.exp(v)))"
   ]
  },
  {
   "cell_type": "markdown",
   "id": "1ccfe79a-068f-4749-8348-5c864bca8430",
   "metadata": {},
   "source": [
    "We have encountered the following problem: $e^{990}$ is too large to be computed.\n",
    "\n",
    "A good solution is to subtract the maximum element from $\\mathbf{v}$ before computing the softmax.  That way, the largest element in the sum is always $e^0=1$, which is easy to represent on any computer."
   ]
  },
  {
   "cell_type": "code",
   "execution_count": 892,
   "id": "5666b361-82cd-49b4-a923-22497f8947ca",
   "metadata": {},
   "outputs": [
    {
     "name": "stdout",
     "output_type": "stream",
     "text": [
      "The numerator of the softmax is\n",
      " [0.36787944 1.         0.36787944 0.36787944]\n",
      "\n",
      "and the softmax output is\n",
      " [0.1748777  0.47536689 0.1748777  0.1748777 ]\n"
     ]
    }
   ],
   "source": [
    "numerator = np.exp(v - np.amax(v))\n",
    "print('The numerator of the softmax is\\n',numerator)\n",
    "prob = numerator / np.sum(numerator)\n",
    "print('\\nand the softmax output is\\n',prob)"
   ]
  },
  {
   "cell_type": "markdown",
   "id": "8af5a2a3-9492-4b89-981b-79688dd9c7d1",
   "metadata": {},
   "source": [
    "Revise your code in `transformer.softmax` so that it works well even with very large logit vectors."
   ]
  },
  {
   "cell_type": "code",
   "execution_count": 893,
   "id": "abd62435-259b-40b0-a4ea-8623ff3185e4",
   "metadata": {},
   "outputs": [
    {
     "name": "stdout",
     "output_type": "stream",
     "text": [
      "[0.1748777  0.47536689 0.1748777  0.1748777 ]\n"
     ]
    }
   ],
   "source": [
    "importlib.reload(transformer)\n",
    "print(transformer.softmax([990,991,990,990]))"
   ]
  },
  {
   "cell_type": "markdown",
   "id": "82d05ffc-ec7a-4a37-a2b5-3f9df846153e",
   "metadata": {},
   "source": [
    "Finally, in order to compute attention, we will find it very useful to compute the softmax normalization on every row of a matrix.  Revise your code in `transformer.softmax` so that it performs the normalization separately on every row of an input matrix."
   ]
  },
  {
   "cell_type": "code",
   "execution_count": 894,
   "id": "93045640-8b11-4024-81f9-587ec518b3ee",
   "metadata": {},
   "outputs": [
    {
     "name": "stdout",
     "output_type": "stream",
     "text": [
      "[[0.1748777  0.47536689 0.1748777  0.1748777 ]\n",
      " [0.1748777  0.1748777  0.47536689 0.1748777 ]]\n"
     ]
    }
   ],
   "source": [
    "importlib.reload(transformer)\n",
    "print(transformer.softmax([[990,991,990,990],[0,0,1,0]]))"
   ]
  },
  {
   "cell_type": "markdown",
   "id": "8fd250ec-a358-4026-92b9-a67b12e59300",
   "metadata": {},
   "source": [
    "### forward"
   ]
  },
  {
   "cell_type": "markdown",
   "id": "69cdbd68-4db8-4a15-85d6-c4cc6797f78e",
   "metadata": {},
   "source": [
    "Now we are ready to implement the forward pass of a transformer."
   ]
  },
  {
   "cell_type": "code",
   "execution_count": 895,
   "id": "1d6f9213-2878-4470-9044-5342390a7fa3",
   "metadata": {},
   "outputs": [
    {
     "name": "stdout",
     "output_type": "stream",
     "text": [
      "Help on function forward in module transformer:\n",
      "\n",
      "forward(XK, XQ, WK, WO, WQ, WV)\n",
      "    Perform one layer of transformer inference, using trained model, on given data.\n",
      "    \n",
      "    @param:\n",
      "    XK - (T-2)-by-V array containing embeddings of words to be used for keys and values\n",
      "    XQ - 2-by-V array containing embeddings of words to be used for queries\n",
      "    WK - V-by-d array mapping X to K\n",
      "    WO - d-by-V array mapping C to O\n",
      "    WQ - V-by-d array mapping X to Q\n",
      "    WV - V-by-d array mapping X to V\n",
      "    \n",
      "    @return:\n",
      "    A - 2-by-(T-2) array, A[i,j] is attention the i'th query pays to the j'th key\n",
      "    C - 2-by-d array, context vectors from which P is computed\n",
      "    K - (T-2)-by-d array, key vectors computed from XK\n",
      "    O - 2-by-V array, O[i,j] is probability that i'th output word should be j\n",
      "    Q - 2-by-d array, query vectors computed from XQ\n",
      "    V - (T-2)-by-d array, value vectors computed from XK\n",
      "\n"
     ]
    }
   ],
   "source": [
    "help(transformer.forward)"
   ]
  },
  {
   "cell_type": "markdown",
   "id": "4a89e199-f37e-41eb-b03d-679feb84d7dc",
   "metadata": {},
   "source": [
    "After computing the matrices $\\mathbf{K}$, $\\mathbf{Q}$, and $\\mathbf{V}$, you need to compute the attention matrix $\\mathbf{A}$, the context matrix $\\mathbf{C}$, the output logist $\\mathbf{O}$, and the output probabilities $\\mathbf{P}$ according to:\n",
    "\n",
    "$$\\mathbf{A}=\\text{softmax}(\\mathbf{Q}\\mathbf{K}^T)$$\n",
    "$$\\mathbf{C}=\\mathbf{A}\\mathbf{V}$$\n",
    "$$\\mathbf{O}=\\text{softmax}(\\mathbf{C}\\mathbf{W}_O)$$\n"
   ]
  },
  {
   "cell_type": "markdown",
   "id": "f81a103c-31a5-494c-9847-42956c8b2702",
   "metadata": {},
   "source": [
    "If you try this using the task1 model and the first sentence of the task1 data, you should find that:\n",
    "* $\\mathbf{K}$ and $\\mathbf{V}$ are equal to the prompt embedding $\\mathbf{X}_K$\n"
   ]
  },
  {
   "cell_type": "code",
   "execution_count": 896,
   "id": "275e19d9-4385-451a-b333-88d3f540cd98",
   "metadata": {},
   "outputs": [
    {
     "name": "stdout",
     "output_type": "stream",
     "text": [
      "K is\n",
      " [[0. 0. 0. 0. 0. 0. 0. 0. 1. 0. 0. 0.]\n",
      " [0. 0. 0. 1. 0. 0. 0. 0. 0. 0. 0. 0.]\n",
      " [0. 0. 0. 0. 0. 0. 0. 1. 0. 0. 0. 0.]\n",
      " [0. 0. 0. 0. 0. 0. 0. 0. 1. 0. 0. 0.]\n",
      " [0. 0. 1. 0. 0. 0. 0. 0. 0. 0. 0. 0.]\n",
      " [0. 1. 0. 0. 0. 0. 0. 0. 0. 0. 0. 0.]\n",
      " [1. 0. 0. 0. 0. 0. 0. 0. 0. 0. 0. 0.]]\n",
      "V is\n",
      " [[0. 0. 0. 0. 0. 0. 0. 0. 1. 0. 0. 0.]\n",
      " [0. 0. 0. 1. 0. 0. 0. 0. 0. 0. 0. 0.]\n",
      " [0. 0. 0. 0. 0. 0. 0. 1. 0. 0. 0. 0.]\n",
      " [0. 0. 0. 0. 0. 0. 0. 0. 1. 0. 0. 0.]\n",
      " [0. 0. 1. 0. 0. 0. 0. 0. 0. 0. 0. 0.]\n",
      " [0. 1. 0. 0. 0. 0. 0. 0. 0. 0. 0. 0.]\n",
      " [1. 0. 0. 0. 0. 0. 0. 0. 0. 0. 0. 0.]]\n"
     ]
    }
   ],
   "source": [
    "importlib.reload(transformer)\n",
    "A, C, K, O, Q, V = transformer.forward(XK, XQ, WK, WO, WQ, WV)\n",
    "print('K is\\n',K)\n",
    "print('V is\\n',V)"
   ]
  },
  {
   "cell_type": "markdown",
   "id": "45815765-5272-422c-98d0-682a304ee5ff",
   "metadata": {},
   "source": [
    "You should also find that:\n",
    "\n",
    "* $\\mathbf{Q}$ is a two-row matrix whose maximum elements are the vocabulary indices of the word `in` in the first row (element 7), and the word `cat` in the second row (element 0)\n"
   ]
  },
  {
   "cell_type": "code",
   "execution_count": 897,
   "id": "75aec68e-64f3-4a51-9dc2-57d609b5e3bb",
   "metadata": {},
   "outputs": [
    {
     "name": "stdout",
     "output_type": "stream",
     "text": [
      "Q is\n",
      " -84.57 -99.00 -99.00 -99.00 -99.00 -99.00 -99.00 -84.50 -99.00 -99.00 -99.00 -99.00\n",
      "-73.88 -86.50 -86.50 -99.00 -99.00 -99.00 -99.00 -86.31 -99.00 -99.00 -99.00 -99.00\n"
     ]
    }
   ],
   "source": [
    "print('Q is\\n','\\n'.join([' '.join(['%.2f'%(q) for q in row]) for row in Q]))"
   ]
  },
  {
   "cell_type": "markdown",
   "id": "11a83f00-1810-4e46-a6c4-79ff768ba678",
   "metadata": {},
   "source": [
    "* $\\mathbf{A}$ is a two-row matrix whose maximum elements are pointers to the positions, in the input sentence, of the words `in` in the first row (element 2), and of the word `cat` in the second row (element 6)\n"
   ]
  },
  {
   "cell_type": "code",
   "execution_count": 898,
   "id": "0a6f3ceb-efe2-4971-a41a-71f7f6f81f6a",
   "metadata": {},
   "outputs": [
    {
     "name": "stdout",
     "output_type": "stream",
     "text": [
      "A is\n",
      " 0.00 0.00 0.52 0.00 0.00 0.00 0.48\n",
      "0.00 0.00 0.00 0.00 0.00 0.00 1.00\n"
     ]
    }
   ],
   "source": [
    "print('A is\\n','\\n'.join([' '.join(['%.2f'%(q) for q in row]) for row in A]))"
   ]
  },
  {
   "cell_type": "markdown",
   "id": "de7280df-d0e4-4d21-a08d-98c331f117a7",
   "metadata": {},
   "source": [
    "* $\\mathbf{C}$ is a two-row matrix whose maximum elements are the same as those of $\\mathbf{Q}$\n"
   ]
  },
  {
   "cell_type": "code",
   "execution_count": 899,
   "id": "9336b462-def7-4473-80a3-ae5bd4de027d",
   "metadata": {},
   "outputs": [
    {
     "name": "stdout",
     "output_type": "stream",
     "text": [
      "C is\n",
      " 0.48 0.00 0.00 0.00 0.00 0.00 0.00 0.52 0.00 0.00 0.00 0.00\n",
      "1.00 0.00 0.00 0.00 0.00 0.00 0.00 0.00 0.00 0.00 0.00 0.00\n"
     ]
    }
   ],
   "source": [
    "print('C is\\n','\\n'.join([' '.join(['%.2f'%(q) for q in row]) for row in C]))"
   ]
  },
  {
   "cell_type": "markdown",
   "id": "b15d74d1-9234-4157-9a74-3a585e09aa29",
   "metadata": {},
   "source": [
    "* $\\mathbf{O}$ is a two-row matrix.  Each of its rows is a probability vector (non-negative, sums to one).  Maximum elements are the vocabulary indices of the word `is` in the first row (element 6) and the word `cat` in the second row (element 0)"
   ]
  },
  {
   "cell_type": "code",
   "execution_count": 900,
   "id": "fa79e300-d4f0-4644-9841-1954686cffa7",
   "metadata": {},
   "outputs": [
    {
     "name": "stdout",
     "output_type": "stream",
     "text": [
      "O is\n",
      " 0.12 0.08 0.08 0.08 0.08 0.08 0.13 0.08 0.08 0.08 0.08 0.08\n",
      "0.20 0.07 0.07 0.07 0.07 0.07 0.07 0.07 0.07 0.07 0.07 0.07\n"
     ]
    }
   ],
   "source": [
    "print('O is\\n','\\n'.join([' '.join(['%.2f'%(q) for q in row]) for row in O]))"
   ]
  },
  {
   "cell_type": "markdown",
   "id": "1679a965-1336-4ccb-8729-f52e31f442e7",
   "metadata": {},
   "source": [
    "## generate"
   ]
  },
  {
   "cell_type": "code",
   "execution_count": 901,
   "id": "cb591f0f-0558-4624-8a8b-5ab52a0e41b9",
   "metadata": {},
   "outputs": [
    {
     "name": "stdout",
     "output_type": "stream",
     "text": [
      "Help on function generate in module transformer:\n",
      "\n",
      "generate(embeddings, vocabulary, WK, WO, WQ, WV)\n",
      "    Perform inference on the provided embeddings, and report the generated sentences.\n",
      "    \n",
      "    @param:\n",
      "    embeddings - a list of one-hot embedding matrices, one per sentence\n",
      "    vocabulary - a list of words in the vocabulary\n",
      "    WK - V-by-d array mapping X to K\n",
      "    WO - d-by-V array mapping C to O\n",
      "    WQ - V-by-d array mapping X to Q\n",
      "    WV - V-by-d array mapping X to V\n",
      "    \n",
      "    @return:\n",
      "    generated - a list of generated sentences, each as a list of space-separated words.\n",
      "      The first T-2 words of each sentence should be vocabulary items indexed by the\n",
      "      argmax of the first T-2 embeddings.  The last 2 words of each sentence should be\n",
      "      vocabulary items indexed by the argmax of the two outputs computed by running\n",
      "      the transformer with the provided WK, WO, WQ, and WV.\n",
      "\n"
     ]
    }
   ],
   "source": [
    "importlib.reload(transformer)\n",
    "help(transformer.generate)"
   ]
  },
  {
   "cell_type": "markdown",
   "id": "877fbe0b-e6d2-478d-8f24-4af000eef19f",
   "metadata": {},
   "source": [
    "The `generate` function should do the following things for each sentence:\n",
    "* Use `reader.define_task` to generate XK, XQ, and Y\n",
    "* Look up the vocabulary items corresponding to the argmax in each row of XK\n",
    "* Use `forward` to generate transformer outputs\n",
    "* Look up the vocabulary items corresponding to the argmax in each row of O\n",
    "\n",
    "If your code is working, it should be able to generate correct answers for all of the sentences in task1:\n"
   ]
  },
  {
   "cell_type": "code",
   "execution_count": 902,
   "id": "f9c8feb7-6ecd-4410-8482-e3e7cd7d3bb8",
   "metadata": {},
   "outputs": [
    {
     "name": "stdout",
     "output_type": "stream",
     "text": [
      "Hypothesis: the noun in the happily swims cat is cat\n",
      "\tReference: the noun in the happily swims cat is cat  ---  0 errors\n",
      "Hypothesis: the adverb in the string of happily cat swims is happily\n",
      "\tReference: the adverb in the string of happily cat swims is happily  ---  0 errors\n",
      "Hypothesis: in the string happily swims cat the verb is swims\n",
      "\tReference: in the string happily swims cat the verb is swims  ---  0 errors\n",
      "Hypothesis: the noun in happily cat swims is cat\n",
      "\tReference: the noun in happily cat swims is cat  ---  0 errors\n",
      "Hypothesis: the noun in the string of swims happily cat is cat\n",
      "\tReference: the noun in the string of swims happily cat is cat  ---  0 errors\n",
      "Hypothesis: in the string of words swims cat happily the adverb is happily\n",
      "\tReference: in the string of words swims cat happily the adverb is happily  ---  0 errors\n",
      "Hypothesis: the verb in the string of words swims happily cat is swims\n",
      "\tReference: the verb in the string of words swims happily cat is swims  ---  0 errors\n",
      "Hypothesis: the adverb in the string of swims cat happily is happily\n",
      "\tReference: the adverb in the string of swims cat happily is happily  ---  0 errors\n",
      "Hypothesis: the noun in the string of words cat happily swims is cat\n",
      "\tReference: the noun in the string of words cat happily swims is cat  ---  0 errors\n",
      "Hypothesis: in the string of swims happily cat the noun is cat\n",
      "\tReference: in the string of swims happily cat the noun is cat  ---  0 errors\n",
      "Hypothesis: the noun in the string happily cat swims is cat\n",
      "\tReference: the noun in the string happily cat swims is cat  ---  0 errors\n",
      "Hypothesis: the adverb in the string of happily swims cat is happily\n",
      "\tReference: the adverb in the string of happily swims cat is happily  ---  0 errors\n",
      "Hypothesis: the adverb in the string swims cat happily is happily\n",
      "\tReference: the adverb in the string swims cat happily is happily  ---  0 errors\n",
      "Hypothesis: in swims cat happily the verb is swims\n",
      "\tReference: in swims cat happily the verb is swims  ---  0 errors\n",
      "Hypothesis: the verb in the string cat happily swims is swims\n",
      "\tReference: the verb in the string cat happily swims is swims  ---  0 errors\n",
      "Hypothesis: the adverb in the string of cat swims happily is happily\n",
      "\tReference: the adverb in the string of cat swims happily is happily  ---  0 errors\n",
      "Hypothesis: the verb in the string of happily cat swims is swims\n",
      "\tReference: the verb in the string of happily cat swims is swims  ---  0 errors\n",
      "Hypothesis: the noun in the string swims cat happily is cat\n",
      "\tReference: the noun in the string swims cat happily is cat  ---  0 errors\n",
      "Hypothesis: the adverb in the string of happily swims cat is happily\n",
      "\tReference: the adverb in the string of happily swims cat is happily  ---  0 errors\n",
      "Hypothesis: the adverb in the string of cat happily swims is happily\n",
      "\tReference: the adverb in the string of cat happily swims is happily  ---  0 errors\n"
     ]
    }
   ],
   "source": [
    "importlib.reload(transformer)\n",
    "generated = transformer.generate(embeddings,vocabulary,WK,WO,WQ,WV)\n",
    "for ref,hyp in zip(sentences,generated):\n",
    "    print('Hypothesis:',' '.join(hyp))\n",
    "    print('\\tReference:',' '.join(ref),' --- ',sum([x!=y for x,y in zip(ref,hyp)]),'errors')\n"
   ]
  },
  {
   "cell_type": "markdown",
   "id": "84532e52-04cc-426b-ac0f-f0191cb7a556",
   "metadata": {},
   "source": [
    "Just to make sure that your code is actually calculating outputs, try running it with completely random weight matrices.  You should get 2 errors in almost every sentence."
   ]
  },
  {
   "cell_type": "code",
   "execution_count": 903,
   "id": "587d96dd-f73e-4251-b42a-0dcdd867643e",
   "metadata": {},
   "outputs": [
    {
     "name": "stdout",
     "output_type": "stream",
     "text": [
      "Hypothesis: the noun in the happily swims cat verb verb\n",
      "\tReference: the noun in the happily swims cat is cat  ---  2 errors\n",
      "Hypothesis: the adverb in the string of happily cat swims verb verb\n",
      "\tReference: the adverb in the string of happily cat swims is happily  ---  2 errors\n",
      "Hypothesis: in the string happily swims cat the verb verb verb\n",
      "\tReference: in the string happily swims cat the verb is swims  ---  2 errors\n",
      "Hypothesis: the noun in happily cat swims verb verb\n",
      "\tReference: the noun in happily cat swims is cat  ---  2 errors\n",
      "Hypothesis: the noun in the string of swims happily cat verb verb\n",
      "\tReference: the noun in the string of swims happily cat is cat  ---  2 errors\n",
      "Hypothesis: in the string of words swims cat happily the adverb verb verb\n",
      "\tReference: in the string of words swims cat happily the adverb is happily  ---  2 errors\n",
      "Hypothesis: the verb in the string of words swims happily cat verb verb\n",
      "\tReference: the verb in the string of words swims happily cat is swims  ---  2 errors\n",
      "Hypothesis: the adverb in the string of swims cat happily verb verb\n",
      "\tReference: the adverb in the string of swims cat happily is happily  ---  2 errors\n",
      "Hypothesis: the noun in the string of words cat happily swims verb verb\n",
      "\tReference: the noun in the string of words cat happily swims is cat  ---  2 errors\n",
      "Hypothesis: in the string of swims happily cat the noun verb verb\n",
      "\tReference: in the string of swims happily cat the noun is cat  ---  2 errors\n",
      "Hypothesis: the noun in the string happily cat swims verb verb\n",
      "\tReference: the noun in the string happily cat swims is cat  ---  2 errors\n",
      "Hypothesis: the adverb in the string of happily swims cat verb verb\n",
      "\tReference: the adverb in the string of happily swims cat is happily  ---  2 errors\n",
      "Hypothesis: the adverb in the string swims cat happily verb verb\n",
      "\tReference: the adverb in the string swims cat happily is happily  ---  2 errors\n",
      "Hypothesis: in swims cat happily the verb verb verb\n",
      "\tReference: in swims cat happily the verb is swims  ---  2 errors\n",
      "Hypothesis: the verb in the string cat happily swims verb verb\n",
      "\tReference: the verb in the string cat happily swims is swims  ---  2 errors\n",
      "Hypothesis: the adverb in the string of cat swims happily verb verb\n",
      "\tReference: the adverb in the string of cat swims happily is happily  ---  2 errors\n",
      "Hypothesis: the verb in the string of happily cat swims verb verb\n",
      "\tReference: the verb in the string of happily cat swims is swims  ---  2 errors\n",
      "Hypothesis: the noun in the string swims cat happily verb verb\n",
      "\tReference: the noun in the string swims cat happily is cat  ---  2 errors\n",
      "Hypothesis: the adverb in the string of happily swims cat verb verb\n",
      "\tReference: the adverb in the string of happily swims cat is happily  ---  2 errors\n",
      "Hypothesis: the adverb in the string of cat happily swims verb verb\n",
      "\tReference: the adverb in the string of cat happily swims is happily  ---  2 errors\n"
     ]
    }
   ],
   "source": [
    "importlib.reload(transformer)\n",
    "V = len(vocabulary)\n",
    "generated = transformer.generate(\n",
    "    embeddings,\n",
    "    vocabulary,\n",
    "    np.random.uniform(0,1,(V,V)),\n",
    "    np.random.uniform(0,1,(V,V)),\n",
    "    np.random.uniform(0,1,(V,V)),\n",
    "    np.random.uniform(0,1,(V,V))\n",
    ")\n",
    "for ref,hyp in zip(sentences,generated):\n",
    "    print('Hypothesis:',' '.join(hyp))\n",
    "    print('\\tReference:',' '.join(ref),' --- ',sum([x!=y for x,y in zip(ref,hyp)]),'errors')\n"
   ]
  },
  {
   "cell_type": "markdown",
   "id": "fb303a9d-c1bd-4a1b-8a35-b3938b5175ed",
   "metadata": {},
   "source": [
    "## Task 2: Train a Transformer"
   ]
  },
  {
   "cell_type": "markdown",
   "id": "acfcd2f6-9bfc-4104-8e6c-96e880bc059c",
   "metadata": {},
   "source": [
    "For task 2, you are not provided with a transformer.  However, you do have 100 sentences of training data!  The data are similar to those of task 1, but with a greater variety of nouns, verbs, and adverbs:"
   ]
  },
  {
   "cell_type": "code",
   "execution_count": 904,
   "id": "f53d997a-3cca-4689-98dd-d717c9fe14be",
   "metadata": {},
   "outputs": [
    {
     "name": "stdout",
     "output_type": "stream",
     "text": [
      "the noun in the string of happily cat programs is cat\n",
      "the adverb in the string happily dog swims is happily\n",
      "the verb in happily cat programs is programs\n",
      "in the string of words programs capybara strongly the adverb is strongly\n",
      "the noun in quickly programs dog is dog\n",
      "in the capybara paints strongly the verb is paints\n",
      "in the string strongly capybara programs the verb is programs\n",
      "in the strongly swims cat the noun is cat\n",
      "the noun in the string of words quickly capybara swims is capybara\n",
      "the verb in the swims quickly capybara is swims\n",
      "the verb in happily swims cat is swims\n",
      "the noun in the string of words strongly cat programs is cat\n",
      "the adverb in swims dog quickly is quickly\n",
      "the noun in the string of words programs happily dog is dog\n",
      "the adverb in the string cat swims strongly is strongly\n",
      "in capybara strongly programs the adverb is strongly\n",
      "in the string of quickly capybara swims the adverb is quickly\n",
      "the adverb in the dog paints happily is happily\n",
      "the noun in programs capybara quickly is capybara\n",
      "the verb in dog strongly programs is programs\n",
      "the noun in the swims quickly cat is cat\n",
      "the verb in the happily swims capybara is swims\n",
      "in the programs quickly capybara the adverb is quickly\n",
      "in the string happily programs capybara the adverb is happily\n",
      "the adverb in the string dog paints happily is happily\n",
      "in the string of dog happily programs the verb is programs\n",
      "the noun in the string of words cat happily swims is cat\n",
      "the adverb in the string of swims dog happily is happily\n",
      "the adverb in the string of words cat swims quickly is quickly\n",
      "in the string quickly paints cat the noun is cat\n",
      "in the string of words programs happily cat the adverb is happily\n",
      "the verb in the string of programs happily capybara is programs\n",
      "the noun in dog strongly programs is dog\n",
      "in the string quickly cat swims the verb is swims\n",
      "the verb in the string of strongly dog programs is programs\n",
      "the verb in the string paints quickly capybara is paints\n",
      "the adverb in the string of words programs cat strongly is strongly\n",
      "the noun in happily swims cat is cat\n",
      "in the string of words quickly cat programs the verb is programs\n",
      "the adverb in swims cat strongly is strongly\n",
      "in the string of words swims capybara quickly the verb is swims\n",
      "the verb in the string cat paints happily is paints\n",
      "in the string of quickly swims capybara the noun is capybara\n",
      "the verb in the string happily programs dog is programs\n",
      "in the string of capybara strongly paints the noun is capybara\n",
      "the adverb in the string of words swims cat happily is happily\n",
      "the adverb in the string of capybara happily swims is happily\n",
      "in the string quickly swims cat the verb is swims\n",
      "the adverb in the dog programs happily is happily\n",
      "the noun in the string of words swims capybara happily is capybara\n",
      "in the string of words cat programs happily the noun is cat\n",
      "the adverb in the string happily dog swims is happily\n",
      "in the string capybara strongly swims the noun is capybara\n",
      "the adverb in the programs capybara quickly is quickly\n",
      "the verb in the string strongly paints capybara is paints\n",
      "in the string of words swims cat happily the noun is cat\n",
      "the adverb in the string of strongly swims capybara is strongly\n",
      "the verb in the cat programs quickly is programs\n",
      "the verb in the string of swims quickly capybara is swims\n",
      "the adverb in the swims strongly capybara is strongly\n",
      "the verb in the string of words capybara programs happily is programs\n",
      "the verb in the string of swims strongly capybara is swims\n",
      "the adverb in the string of words dog strongly programs is strongly\n",
      "the verb in paints quickly capybara is paints\n",
      "the adverb in dog programs strongly is strongly\n",
      "in cat paints happily the adverb is happily\n",
      "the verb in the string cat paints happily is paints\n",
      "in the string of words paints dog quickly the verb is paints\n",
      "the noun in the string of words cat programs quickly is cat\n",
      "the noun in the string dog quickly swims is dog\n",
      "the noun in the string dog happily swims is dog\n",
      "the adverb in the paints happily dog is happily\n",
      "the verb in the programs happily dog is programs\n",
      "in the string of words dog programs strongly the verb is programs\n",
      "the noun in the string swims strongly dog is dog\n",
      "in the string of words paints capybara quickly the verb is paints\n",
      "the adverb in the string of programs capybara strongly is strongly\n",
      "in programs capybara quickly the adverb is quickly\n",
      "the noun in dog strongly programs is dog\n",
      "in the paints capybara happily the noun is capybara\n",
      "the adverb in the string of programs happily cat is happily\n",
      "the noun in the string of words dog programs quickly is dog\n",
      "the noun in the string of cat happily programs is cat\n",
      "in the string of words paints cat quickly the verb is paints\n",
      "in the string cat programs happily the adverb is happily\n",
      "the adverb in paints happily dog is happily\n",
      "the verb in the happily swims dog is swims\n",
      "the noun in the string happily swims cat is cat\n",
      "the noun in the string programs cat happily is cat\n",
      "in the quickly swims cat the noun is cat\n",
      "the verb in quickly dog paints is paints\n",
      "in the string of cat paints strongly the noun is cat\n",
      "in dog quickly paints the adverb is quickly\n",
      "in the string of words strongly capybara paints the verb is paints\n",
      "the noun in the strongly capybara programs is capybara\n",
      "the adverb in happily capybara swims is happily\n",
      "in the string of words cat paints quickly the verb is paints\n",
      "in the dog paints strongly the noun is dog\n",
      "the adverb in the string of paints strongly cat is strongly\n",
      "in the strongly programs cat the verb is programs\n"
     ]
    }
   ],
   "source": [
    "importlib.reload(reader)\n",
    "vocabulary = reader.load_vocabulary('data/task2_vocabulary.txt')\n",
    "sentences, embeddings = reader.load_data('data/task2_train_data.txt', vocabulary)\n",
    "print('\\n'.join([' '.join(s) for s in sentences]))"
   ]
  },
  {
   "cell_type": "markdown",
   "id": "55447028-b68d-42d8-bd29-b3b564175015",
   "metadata": {},
   "source": [
    "In order to perform training, you'll need to write three methods: `cross_entropy_loss`, `gradient`, and `train`.\n"
   ]
  },
  {
   "cell_type": "markdown",
   "id": "42bf14f9-5397-4bc9-8909-2886518712d6",
   "metadata": {},
   "source": [
    "### Cross Entropy Loss\n"
   ]
  },
  {
   "cell_type": "markdown",
   "id": "7e979905-97b9-4bc8-9f00-4ce6cdc0b82e",
   "metadata": {},
   "source": [
    "First, write a function called `loss` that calculates the loss and the derivative of the loss.  Given a transformer output $\\mathbf{O}$ whose elements are $o_{i,j}\\in[0,1]$ and a corresponding set of one-hot target vectors $\\mathbf{Y}$ whose elements are $y_{i,j}\\in\\{0,1\\}$, the cross-entropy loss is\n",
    "\n",
    "$$\\mathcal{L}=-\\sum_i y_{i,j}\\ln \\max\\left(o_{i,j},\\epsilon\\right)$$\n",
    "\n",
    "where $\\epsilon$ is the python constant `sys.float_info.min`, and is used here just to make sure we don't get floating-point underflow. \n",
    "\n",
    "The derivatives of cross-entropy with respect to $o_{i,j}$ and $\\mathbf{O}$ are\n",
    "$$\n",
    "\\frac{\\partial\\mathcal{L}}{\\partial o_{i,j}}=-\\frac{y_{i,j}}{o_{i,j}},~~~\n",
    "\\frac{\\partial\\mathcal{L}}{\\partial\\mathbf{O}}=-\\frac{\\mathbf{Y}}{\\mathbf{O}},\n",
    "$$\n",
    "where the division is an element-wise or \"array\" division (https://numpy.org/doc/2.2/reference/generated/numpy.divide.html). "
   ]
  },
  {
   "cell_type": "code",
   "execution_count": 905,
   "id": "c0eef412-ff46-4559-a0c0-a3e7fbb634b2",
   "metadata": {},
   "outputs": [
    {
     "name": "stdout",
     "output_type": "stream",
     "text": [
      "Help on function cross_entropy_loss in module transformer:\n",
      "\n",
      "cross_entropy_loss(O, Y)\n",
      "    Calculate losses from network outputs O if target one-hot vectors are Y.\n",
      "    \n",
      "    @param:\n",
      "    O - NQ-by-V array.  O[n,v]=probability that n'th output is v.\n",
      "    Y - NQ-by-V array. Y[n,v]=1 if n'th target is v, else Y[n,v]=0.\n",
      "    \n",
      "    @return:\n",
      "    L - cross-entropy loss, summed over all rows\n",
      "    dO - NQ-by-V array.  Derivatives of the loss with respect to the elements of O.\n",
      "\n"
     ]
    }
   ],
   "source": [
    "importlib.reload(transformer)\n",
    "help(transformer.cross_entropy_loss)"
   ]
  },
  {
   "cell_type": "markdown",
   "id": "fd550ad0-2f27-4d24-bf07-b28fc1fbcbe4",
   "metadata": {},
   "source": [
    "For example, suppose we look up $\\mathbf{Y}$ for the first train embedding, randomly generate a (correctly-normalized) probability matrix of the same size, then find the resulting loss and loss gradient:"
   ]
  },
  {
   "cell_type": "code",
   "execution_count": 906,
   "id": "fa322b09-174c-417c-af65-f53acfefbd77",
   "metadata": {},
   "outputs": [
    {
     "name": "stdout",
     "output_type": "stream",
     "text": [
      "Y is\n",
      " [[0. 0. 0. 0. 0. 0. 0. 0. 0. 0. 0. 0. 1. 0. 0. 0. 0. 0.]\n",
      " [1. 0. 0. 0. 0. 0. 0. 0. 0. 0. 0. 0. 0. 0. 0. 0. 0. 0.]]\n",
      "O is\n",
      "0.024 0.11 0.05 0.077 0.06 0.043 0.049 0.093 0.095 0.017 0.058 0.067 0.023 0.0074 0.069 0.091 0.021 0.049\n",
      "0.11 0.03 0.078 0.0042 0.09 0.037 0.095 0.0096 0.096 0.018 0.086 0.043 0.064 0.018 0.07 0.089 0.029 0.031\n"
     ]
    }
   ],
   "source": [
    "XK, XQ, Y = reader.define_task(embeddings[0])\n",
    "print('Y is\\n',Y)\n",
    "\n",
    "O = np.random.uniform(0, 100, size=Y.shape)\n",
    "O /= np.expand_dims(np.sum(O,axis=1), axis=1)\n",
    "print('O is')\n",
    "print('\\n'.join([' '.join(['%.2g'%(o) for o in row]) for row in O]))"
   ]
  },
  {
   "cell_type": "code",
   "execution_count": 907,
   "id": "9db29707-9418-41c4-9397-b7876df39615",
   "metadata": {},
   "outputs": [
    {
     "name": "stdout",
     "output_type": "stream",
     "text": [
      "Total loss is 5.9678398642656685 which should equal 5.9678398642656685\n",
      "Its derivative dL/dO is\n",
      "-0 -0 -0 -0 -0 -0 -0 -0 -0 -0 -0 -0 -43 -0 -0 -0 -0 -0\n",
      "-9.1 -0 -0 -0 -0 -0 -0 -0 -0 -0 -0 -0 -0 -0 -0 -0 -0 -0\n"
     ]
    }
   ],
   "source": [
    "importlib.reload(transformer)\n",
    "L, dO = transformer.cross_entropy_loss(O,Y)\n",
    "print('Total loss is',L, 'which should equal', -np.log(O[0,12])-np.log(O[1,0]))\n",
    "print('Its derivative dL/dO is')\n",
    "print('\\n'.join([' '.join(['%.2g'%(o) for o in row]) for row in dO]))"
   ]
  },
  {
   "cell_type": "markdown",
   "id": "ce3b1fcd",
   "metadata": {},
   "source": []
  },
  {
   "cell_type": "markdown",
   "id": "3c64ead2-51da-4aab-afc4-6a4ec6aaa100",
   "metadata": {},
   "source": [
    "### Gradient"
   ]
  },
  {
   "cell_type": "markdown",
   "id": "cc4b6c2c-649f-410a-8f89-f7af8b063966",
   "metadata": {},
   "source": [
    "Now that we know the loss (and its derivative with respect to $O$), we need to find the derivative of the loss with respect to all of the model parameters: $\\frac{\\partial\\mathcal{L}}{\\partial\\mathbf{W}_K}$, $\\frac{\\partial\\mathcal{L}}{\\partial\\mathbf{W}_O}$, $\\frac{\\partial\\mathcal{L}}{\\partial\\mathbf{W}_Q}$, and $\\frac{\\partial\\mathcal{L}}{\\partial\\mathbf{W}_V}$."
   ]
  },
  {
   "cell_type": "code",
   "execution_count": null,
   "id": "6ccaec63",
   "metadata": {},
   "outputs": [],
   "source": []
  },
  {
   "cell_type": "markdown",
   "id": "501a99bd-b81f-4706-a99b-e5ea7bf9f885",
   "metadata": {},
   "source": [
    "In order to calculate those derivatives, you will want to use the chain rule.  In order to do that, you might find it useful to think about the two types of layer that are used repeatedly in the transformer: matrix multiplication, and the softmax function."
   ]
  },
  {
   "cell_type": "markdown",
   "id": "5e31f014-3aea-4b82-9588-3a1e3baba8c0",
   "metadata": {},
   "source": [
    "#### Matrix Multiplication\n",
    "\n",
    "Suppose you have three matrices, $\\mathbf{A}$, $\\mathbf{B}$, and $\\mathbf{C}$, whose elements are $a_{i,j}$, $b_{j,k}$, and $c_{i,k}$, and suppose that\n",
    "\n",
    "$$\\mathbf{C}=\\mathbf{A}\\mathbf{B} ~~~\\Leftrightarrow~~~ c_{i,k}=\\sum_j a_{i,j}b_{j,k}$$\n",
    "\n",
    "Suppose you know $\\frac{\\partial\\mathcal{L}}{\\partial\\mathbf{C}}$, whose elements are $\\frac{\\partial\\mathcal{L}}{\\partial c_{i,k}}$.  Then\n",
    "\n",
    "$$\\frac{\\partial\\mathcal{L}}{\\partial a_{i,j}}=\\sum_k\\frac{\\partial\\mathcal{L}}{\\partial c_{i,k}}b_{j,k}~~~\\Leftrightarrow~~~ \\frac{\\partial\\mathcal{L}}{\\partial\\mathbf{A}}=\\frac{\\partial\\mathcal{L}}{\\partial\\mathbf{C}}\\mathbf{B}^T$$\n",
    "\n",
    "$$\\frac{\\partial\\mathcal{L}}{\\partial b_{j,k}}=\\sum_i a_{i,j}\\frac{\\partial\\mathcal{L}}{\\partial c_{i,k}}~~~\\Leftrightarrow~~~ \\frac{\\partial\\mathcal{L}}{\\partial\\mathbf{B}}=\\mathbf{A}^T\\frac{\\partial\\mathcal{L}}{\\partial\\mathbf{C}}$$\n"
   ]
  },
  {
   "cell_type": "markdown",
   "id": "c5c58645-3780-4a5c-941b-27b17c3109ce",
   "metadata": {},
   "source": [
    "#### Softmax\n",
    "\n",
    "Suppose you have two matrices, $\\mathbf{A}$ and $\\mathbf{Z}$, whose elements are $a_{i,j}$ and $z_{i,j}$, and suppose that\n",
    "\n",
    "$$\\mathbf{A}=\\text{softmax}\\left(\\mathbf{Z}\\right) ~~~\\Leftrightarrow~~~ a_{i,j}=\\frac{e^{z_{i,j}}}{\\sum_\\ell e^{z_{i,\\ell}}}$$\n",
    "\n",
    "Suppose you know $\\frac{\\partial\\mathcal{L}}{\\partial\\mathbf{A}}$, whose elements are $\\frac{\\partial\\mathcal{L}}{\\partial a_{i,j}}$.  Then\n",
    "\n",
    "$$\\frac{\\partial\\mathcal{L}}{\\partial z_{m,n}}=\\sum_k\\frac{\\partial\\mathcal{L}}{\\partial a_{m,k}}\\frac{\\partial a_{m,k}}{\\partial z_{m,n}}=a_{m,n}\\left(\\frac{\\partial\\mathcal{L}}{\\partial a_{m,n}}-\\sum_k a_{m,k}\\frac{\\partial\\mathcal{L}}{\\partial a_{m,k}}\\right)$$\n"
   ]
  },
  {
   "cell_type": "markdown",
   "id": "7ba08eef-be02-43b3-a2bd-3edfaab4bc6b",
   "metadata": {},
   "source": [
    "The idea of the `gradient` function is to apply the above formulas, one by one backward through the transformer, until you are able to calculate the desired derivatives $\\frac{\\partial\\mathcal{L}}{\\partial\\mathbf{W}_K}$, $\\frac{\\partial\\mathcal{L}}{\\partial\\mathbf{W}_O}$, $\\frac{\\partial\\mathcal{L}}{\\partial\\mathbf{W}_Q}$, and $\\frac{\\partial\\mathcal{L}}{\\partial\\mathbf{W}_V}$:"
   ]
  },
  {
   "cell_type": "code",
   "execution_count": 908,
   "id": "e4f086ff-1327-463f-b697-3eead5e2815e",
   "metadata": {},
   "outputs": [
    {
     "name": "stdout",
     "output_type": "stream",
     "text": [
      "Help on function gradient in module transformer:\n",
      "\n",
      "gradient(XK, XQ, Y, WK, WO, WQ, WV, A, C, K, O, Q, V)\n",
      "    Compute gradient of cross-entropy loss with respect to WK, WO, WQ, and WV\n",
      "    given the input data in K, Q, and V, and the target outputs in Y.\n",
      "    \n",
      "    @param:\n",
      "    XK - one embedding per row, first n-2 words in the sentence\n",
      "    XQ - one embedding per row, 3rd-from-last and 2nd-from-last words in the sentence\n",
      "    Y - one embedding per row, last two words in the sentence\n",
      "    O - 2-by-V array, O[i,j] is probability that i'th output word should be j\n",
      "    C - 2-by-d array, context vectors from which O is computed\n",
      "    V - (T-2)-by-d array, value vectors of which each row of C is a weighted average\n",
      "    A - 2-by-(T-2) array, A[i,j] is attention the i'th query pays to the j'th key\n",
      "    K - (T-2)-by-d array, key vectors computed from XK\n",
      "    Q - 2-by-d array, query vectors computed from XQ\n",
      "    \n",
      "    @return:\n",
      "    dWK - gradient of cross-entropy with respect to WK\n",
      "    dWO - gradient of cross-entropy with respect to WO\n",
      "    dWQ - gradient of cross-entropy with respect to WQ\n",
      "    dWV - gradient of cross-entropy with respect to WV\n",
      "\n"
     ]
    }
   ],
   "source": [
    "importlib.reload(transformer)\n",
    "help(transformer.gradient)"
   ]
  },
  {
   "cell_type": "markdown",
   "id": "577c58fd-3847-4464-a959-b26fb0e46445",
   "metadata": {},
   "source": [
    "Without writing the `train` function, the only way to test your `gradient` function is by calculating the desired values (e.g., by hand, or using some other code), and then comparing them to the values your code produces.  In order to help you out, we've provided some examples of desired values in the function `test/test_visible.py,` which you can access using python's unittest facility:"
   ]
  },
  {
   "cell_type": "code",
   "execution_count": 909,
   "id": "ac4c704e-1abe-40e5-84ee-a1767ef88357",
   "metadata": {},
   "outputs": [
    {
     "name": "stderr",
     "output_type": "stream",
     "text": [
      "................\n",
      "----------------------------------------------------------------------\n",
      "Ran 16 tests in 0.011s\n",
      "\n",
      "OK\n"
     ]
    },
    {
     "data": {
      "text/plain": [
       "<unittest.runner.TextTestResult run=16 errors=0 failures=0>"
      ]
     },
     "execution_count": 909,
     "metadata": {},
     "output_type": "execute_result"
    }
   ],
   "source": [
    "import unittest\n",
    "unittest.TextTestRunner().run(unittest.defaultTestLoader.discover('tests'))"
   ]
  },
  {
   "cell_type": "markdown",
   "id": "34e4c626-fcfc-4d89-b394-cba500e4f232",
   "metadata": {},
   "source": [
    "### Train the transformer"
   ]
  },
  {
   "cell_type": "markdown",
   "id": "0beeb514-c2c8-4459-962f-3a8f8c0e4bdc",
   "metadata": {},
   "source": [
    "The `train` function should use stochastic gradient descent to train the transformer."
   ]
  },
  {
   "cell_type": "code",
   "execution_count": 910,
   "id": "d9e07e66-f013-443a-bba6-258842938fb4",
   "metadata": {},
   "outputs": [
    {
     "name": "stdout",
     "output_type": "stream",
     "text": [
      "Help on function train in module transformer:\n",
      "\n",
      "train(embeddings, WK, WO, WQ, WV, learningrate, num_iters)\n",
      "    Train a transformer using stochastic gradient descent (SGD).\n",
      "    Each iteration of SGD should choose one training sentence, uniformly at random,\n",
      "    compute the loss and loss gradient for that one sentence,\n",
      "    then adjust the parameters WK, WO, WQ and WV in the direction of the negative\n",
      "    gradient scaled by the learningrate.\n",
      "    \n",
      "    @param:\n",
      "    embeddings - embeddings[i][j,:] is one-hot vector of the j'th word in the i'th training sentence\n",
      "    WK - the matrix that multiplies each embedding to produce a key\n",
      "    WO - the matrix that multiplies the context vector to produce an output logit vector\n",
      "    WQ - the matrix that multiplies each embedding to produce a query\n",
      "    WV - the matrix that multiplies each embedding to produce a value\n",
      "    learningrate - scalar learning rate\n",
      "    num_iters - number of iterations of SGD to perform\n",
      "    \n",
      "    @return:\n",
      "    losses - losses[t]=cross-entropy loss of t'th iteration\n",
      "    WK - what WK has become after num_iters of training\n",
      "    WO - what WO has become after num_iters of training\n",
      "    WQ - what WQ has become after num_iters of training\n",
      "    WV - what WV has become after num_iters of training\n",
      "\n"
     ]
    }
   ],
   "source": [
    "importlib.reload(transformer)\n",
    "help(transformer.train)"
   ]
  },
  {
   "cell_type": "markdown",
   "id": "3295f605-6a53-440e-8bc8-9f31236d4642",
   "metadata": {},
   "source": [
    "The parameters can be initialized randomly, e.g., using np.random.normal with a small standard deviation."
   ]
  },
  {
   "cell_type": "code",
   "execution_count": 911,
   "id": "c8da7af1-f138-4f3f-9d4c-f5ce066e9c26",
   "metadata": {},
   "outputs": [],
   "source": [
    "V = len(vocabulary)\n",
    "WK0 = np.random.normal(loc=0,scale=0.001,size=(V,V))\n",
    "WO0 = np.random.normal(loc=0,scale=0.001,size=(V,V))\n",
    "WQ0 = np.random.normal(loc=0,scale=0.001,size=(V,V))\n",
    "WV0 = np.random.normal(loc=0,scale=0.001,size=(V,V))\n",
    "\n",
    "importlib.reload(transformer)\n",
    "losses, WK, WO, WQ, WV = transformer.train(embeddings,WK0,WO0,WQ0,WV0,0.01,50000)"
   ]
  },
  {
   "cell_type": "code",
   "execution_count": 912,
   "id": "ecc3b647-54ad-4514-b00f-a1f49fe4cfea",
   "metadata": {},
   "outputs": [
    {
     "data": {
      "text/plain": [
       "Text(0.5, 1.0, 'Training losses, transformer MP task 2')"
      ]
     },
     "execution_count": 912,
     "metadata": {},
     "output_type": "execute_result"
    },
    {
     "data": {
      "image/png": "[encoded data removed]",
      "text/plain": [
       "<Figure size 1400x400 with 1 Axes>"
      ]
     },
     "metadata": {},
     "output_type": "display_data"
    }
   ],
   "source": [
    "import matplotlib.pyplot as plt\n",
    "fig = plt.figure(figsize=(14,4))\n",
    "ax = fig.subplots(1)\n",
    "ax.plot(losses)\n",
    "ax.set_title('Training losses, transformer MP task 2')"
   ]
  },
  {
   "cell_type": "markdown",
   "id": "31609497-acd1-49f0-9074-89e437011964",
   "metadata": {},
   "source": [
    "Training a transformer is kind of hard.  For this task, there tend to be three quite distinct training periods:\n",
    "* In the first training period, the transformer is assigning roughly equal probability to all words in the vocabulary, so the average loss is around $-2\\log(1/V)\\approx 6$.\n",
    "* In the second training period, the transformer has learned to produce the word `is` at the end of each sentence, but has not yet learned to produce the correct noun, verb, or adverb.  During this period the average loss is around $-\\log(1/V)\\approx 3$.\n",
    "* In the third training period, the transformer learns how to usually produce the correct noun, verb, or adverb.  At this point the average training loss drops to 0 on good iterations, with bad iterations that have much larger loss. Over time, the frequency of bad iterations continues to drop.\n",
    "\n",
    "If you don't see a training curve with all three periods, try adjusting your learning rate or num_iters until you get a curve with this behavior. \n"
   ]
  },
  {
   "cell_type": "code",
   "execution_count": 913,
   "id": "799662f2-5804-4772-b058-ba1fb1118311",
   "metadata": {},
   "outputs": [
    {
     "name": "stdout",
     "output_type": "stream",
     "text": [
      "Hypothesis: the noun in the happily swims cat is cat\n",
      "\tReference: the noun in the happily swims cat is cat  ---  0 errors\n",
      "Hypothesis: the verb in the string paints cat strongly is paints\n",
      "\tReference: the verb in the string paints cat strongly is paints  ---  0 errors\n",
      "Hypothesis: the verb in the string quickly programs capybara is paints\n",
      "\tReference: the verb in the string quickly programs capybara is programs  ---  1 errors\n",
      "Hypothesis: the adverb in the string of words capybara programs strongly is strongly\n",
      "\tReference: the adverb in the string of words capybara programs strongly is strongly  ---  0 errors\n",
      "Hypothesis: the adverb in the string swims quickly capybara is quickly\n",
      "\tReference: the adverb in the string swims quickly capybara is quickly  ---  0 errors\n",
      "Hypothesis: the adverb in the swims happily capybara is happily\n",
      "\tReference: the adverb in the swims happily capybara is happily  ---  0 errors\n",
      "Hypothesis: the noun in the string capybara strongly programs is dog\n",
      "\tReference: the noun in the string capybara strongly programs is capybara  ---  1 errors\n",
      "Hypothesis: in the string of paints happily capybara the noun is capybara\n",
      "\tReference: in the string of paints happily capybara the noun is capybara  ---  0 errors\n",
      "Hypothesis: in the string strongly programs capybara the verb is programs\n",
      "\tReference: in the string strongly programs capybara the verb is programs  ---  0 errors\n",
      "Hypothesis: the verb in the capybara quickly programs is paints\n",
      "\tReference: the verb in the capybara quickly programs is programs  ---  1 errors\n",
      "Hypothesis: in the dog happily swims the noun is dog\n",
      "\tReference: in the dog happily swims the noun is dog  ---  0 errors\n",
      "Hypothesis: in the string cat happily swims the noun is cat\n",
      "\tReference: in the string cat happily swims the noun is cat  ---  0 errors\n",
      "Hypothesis: the noun in the swims dog quickly is capybara\n",
      "\tReference: the noun in the swims dog quickly is dog  ---  1 errors\n",
      "Hypothesis: in the string happily cat swims the noun is cat\n",
      "\tReference: in the string happily cat swims the noun is cat  ---  0 errors\n",
      "Hypothesis: the adverb in paints cat strongly is strongly\n",
      "\tReference: the adverb in paints cat strongly is strongly  ---  0 errors\n",
      "Hypothesis: the noun in the string happily paints capybara is capybara\n",
      "\tReference: the noun in the string happily paints capybara is capybara  ---  0 errors\n",
      "Hypothesis: in the programs dog quickly the noun is dog\n",
      "\tReference: in the programs dog quickly the noun is dog  ---  0 errors\n",
      "Hypothesis: in the string paints happily cat the noun is cat\n",
      "\tReference: in the string paints happily cat the noun is cat  ---  0 errors\n",
      "Hypothesis: in the string of words capybara strongly swims the noun is capybara\n",
      "\tReference: in the string of words capybara strongly swims the noun is capybara  ---  0 errors\n",
      "Hypothesis: in the string of quickly swims dog the noun is dog\n",
      "\tReference: in the string of quickly swims dog the noun is dog  ---  0 errors\n"
     ]
    }
   ],
   "source": [
    "dev, devX = reader.load_data('data/task2_dev_data.txt', vocabulary)\n",
    "generated = transformer.generate(devX,vocabulary,WK,WO,WQ,WV)\n",
    "for ref,hyp in zip(dev,generated):\n",
    "    print('Hypothesis:',' '.join(hyp))\n",
    "    print('\\tReference:',' '.join(ref),' --- ',sum([x!=y for x,y in zip(ref,hyp)]),'errors')\n"
   ]
  },
  {
   "cell_type": "markdown",
   "id": "f2c573b3-40e6-4f36-bc29-85d435f0ecdb",
   "metadata": {},
   "source": [
    "## Grading your work"
   ]
  },
  {
   "cell_type": "markdown",
   "id": "80707835-114a-42cb-b2b3-ddd3c170febd",
   "metadata": {},
   "source": [
    "To grade your code, upload `transformer.py` to gradescope.  The autograder will run three types of tests:\n",
    "\n",
    "* `test_visible.py` is exactly the same as the code available to you in the template\n",
    "* `test_hidden.py` runs the same tests, but with different parameter values\n",
    "* `test_training.py` runs `transformer.train` for 50,000 iterations on a task that is similar to task 2, but with different vocabulary\n",
    "\n"
   ]
  },
  {
   "cell_type": "code",
   "execution_count": null,
   "id": "1e676184-90ed-4130-82bb-8fdf67ca183a",
   "metadata": {},
   "outputs": [],
   "source": []
  }
 ],
 "metadata": {
  "kernelspec": {
   "display_name": "Python 3",
   "language": "python",
   "name": "python3"
  },
  "language_info": {
   "codemirror_mode": {
    "name": "ipython",
    "version": 3
   },
   "file_extension": ".py",
   "mimetype": "text/x-python",
   "name": "python",
   "nbconvert_exporter": "python",
   "pygments_lexer": "ipython3",
   "version": "3.8.1"
  }
 },
 "nbformat": 4,
 "nbformat_minor": 5
}
